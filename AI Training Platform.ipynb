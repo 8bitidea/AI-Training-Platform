{
 "cells": [
  {
   "cell_type": "markdown",
   "metadata": {},
   "source": [
    "## AI Training Platform\n"
   ]
  },
  {
   "cell_type": "markdown",
   "metadata": {},
   "source": [
    "## Inspiration:\n",
    "\n",
    "- The existing AI market is increasingly controlled by tech giants like Google, IBM and Microsoft , however we are now witnessing the blockchain technology , powerful distrubuted computing prototypes , and big GPU mining farms greeding for more rewards .\n",
    "\n",
    "\n"
   ]
  },
  {
   "cell_type": "markdown",
   "metadata": {},
   "source": [
    "## How to do So ? ( Should make it simple as possible )\n",
    "\n",
    "- there is too many Neural networks tools out there : such as Caffe, Keras, Gluon, Tensorflow, Mxnet, DL4J\n",
    "and others.\n",
    "\n",
    "## I'M CHOSING TENSORFLOW LIB. TO WORK WITH \n",
    "## Why ?\n",
    "\n",
    "- With Tensorflow they had made and still making a breaking through in AI domain , and in it they implementing a way to distrubuted the training between couple handered of workers but they sill localy , training the models in there local machines .\n",
    "\n",
    "- \" thinking of : they should go globaly and take advantage of the GPU owners out there \"\n",
    "\n",
    "## My schematic (and you should correct me if iam wrong )\n",
    "\n",
    "- in Tensor lib. and iam Quating \" \n",
    "A TensorFlow \"cluster\" is a set of \"tasks\" that participate in the distributed execution of a TensorFlow graph. Each task is associated with a TensorFlow \"server\", which contains a \"master\" that can be used to create sessions, and a \"worker\" that executes operations in the graph. A cluster can also be divided into one or more \"jobs\", where each job contains one or more tasks\"\n",
    "\n",
    "\n",
    "\n",
    "![alt text](https://imgur.com/a/G4U4T \"Logo Title Text 1\")\n",
    "\n",
    "\n",
    "\n",
    "- they had made it distributed execution but if we imagine that making the local works altrnative to mining and the mining software build to reacts with training the model and the ps servers that host the variables and make the harmony between the works by sending the jobs to them is a block chain node , \n",
    "making it more better is to build a different block header that trained + the time that the miner had spend working + the speed of training  to calculate the rewards he should take .\n",
    "\n",
    "- from tensor's lib , they discripe how simmple to conect to server and client .\n",
    "\n",
    "\n",
    "\n",
    "![alt text](https://imgur.com/Yp24DZT \"Logo Title Text 1\")\n",
    "\n",
    "\n",
    "\n",
    "\n"
   ]
  },
  {
   "cell_type": "markdown",
   "metadata": {},
   "source": [
    "## still working on it "
   ]
  }
 ],
 "metadata": {
  "kernelspec": {
   "display_name": "Python 3",
   "language": "python",
   "name": "python3"
  },
  "language_info": {
   "codemirror_mode": {
    "name": "ipython",
    "version": 3
   },
   "file_extension": ".py",
   "mimetype": "text/x-python",
   "name": "python",
   "nbconvert_exporter": "python",
   "pygments_lexer": "ipython3",
   "version": "3.6.4"
  }
 },
 "nbformat": 4,
 "nbformat_minor": 2
}
